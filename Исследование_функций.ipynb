{
  "nbformat": 4,
  "nbformat_minor": 0,
  "metadata": {
    "colab": {
      "provenance": [],
      "collapsed_sections": [],
      "authorship_tag": "ABX9TyN1sU3wX1zCXfg6ewxPTgsC",
      "include_colab_link": true
    },
    "kernelspec": {
      "name": "python3",
      "display_name": "Python 3"
    },
    "language_info": {
      "name": "python"
    }
  },
  "cells": [
    {
      "cell_type": "markdown",
      "metadata": {
        "id": "view-in-github",
        "colab_type": "text"
      },
      "source": [
        "<a href=\"https://colab.research.google.com/github/albinovik/non_opt_course/blob/main/%D0%98%D1%81%D1%81%D0%BB%D0%B5%D0%B4%D0%BE%D0%B2%D0%B0%D0%BD%D0%B8%D0%B5_%D1%84%D1%83%D0%BD%D0%BA%D1%86%D0%B8%D0%B9.ipynb\" target=\"_parent\"><img src=\"https://colab.research.google.com/assets/colab-badge.svg\" alt=\"Open In Colab\"/></a>"
      ]
    },
    {
      "cell_type": "markdown",
      "source": [
        "**ИССЛЕДОВАНИЕ ФУНКЦИИ ОДНОЙ ПЕРЕМЕННОЙ.** В контекте анализа данных, в результате аппроксимации можно получить сколь угодно сложную функцию. Однако, получив аналитическое выражение, мы можем далее с ним работать и охарактеризовать зависимость, которая возникает в данных. Сейчас речь идет о функции одной переменной."
      ],
      "metadata": {
        "id": "vwHE_AR72qk9"
      }
    },
    {
      "cell_type": "code",
      "execution_count": 2,
      "metadata": {
        "id": "sFiOCnhA2JJ3"
      },
      "outputs": [],
      "source": [
        "import numpy as np\n",
        "\n",
        "#definition of an user function\n",
        "def func(x):\n",
        "  return ((x - 5) **3 / (x**2 - 10 * x + 9))"
      ]
    },
    {
      "cell_type": "markdown",
      "source": [
        "Стандартно исследование функции начинают с определения допустимых значений x, т.е. с области определения. В нашем случае значения x могут быль любыми, кроме тех, которые являются корнями уравнения x^2 - 10x + 9 = 0. Такие уравнение легко решать с библиотекой sympy."
      ],
      "metadata": {
        "id": "7RqGlHBl6QeX"
      }
    },
    {
      "cell_type": "code",
      "source": [
        "import sympy as sym\n",
        "x, y, z = sym.symbols('x, y, z')\n",
        "eq = sym.Eq(x**2 - 10 * x + 9, 0)             # x**2 - 10 * x + 9  = 0\n",
        "ans = sym.solve(eq, x)\n",
        "ans"
      ],
      "metadata": {
        "colab": {
          "base_uri": "https://localhost:8080/"
        },
        "id": "5zBWm7fY7zNX",
        "outputId": "dca40c8a-bee5-4cf1-cbe4-fdc5e2de80dd"
      },
      "execution_count": 3,
      "outputs": [
        {
          "output_type": "execute_result",
          "data": {
            "text/plain": [
              "[1, 9]"
            ]
          },
          "metadata": {},
          "execution_count": 3
        }
      ]
    },
    {
      "cell_type": "markdown",
      "source": [
        "Итак, в точках x=1 и x=9 находятся вертикальные асимптоты графика функции func(x). Можно заодно найти и наклонные асимтоты, если такие имеются. Асимптота является линейной функции и, в общем случае, задается формулой y = K * x + B. Найдем коэффициенты K и B. "
      ],
      "metadata": {
        "id": "IFL5M5Bw_s8A"
      }
    },
    {
      "cell_type": "code",
      "source": [
        "from sympy.series.limits import limit\n",
        "coefK = sym.limit(func(x) / x, x, sym.oo)\n",
        "coefK"
      ],
      "metadata": {
        "colab": {
          "base_uri": "https://localhost:8080/",
          "height": 37
        },
        "id": "ciTFR01y_sBS",
        "outputId": "cf877ac4-33e8-41a0-af92-1726de01a65b"
      },
      "execution_count": null,
      "outputs": [
        {
          "output_type": "execute_result",
          "data": {
            "text/plain": [
              "1"
            ],
            "text/latex": "$\\displaystyle 1$"
          },
          "metadata": {},
          "execution_count": 68
        }
      ]
    },
    {
      "cell_type": "code",
      "source": [
        "coefB = sym.limit(func(x) - x, x, sym.oo)\n",
        "coefB"
      ],
      "metadata": {
        "colab": {
          "base_uri": "https://localhost:8080/",
          "height": 37
        },
        "id": "01i0X75jBqXu",
        "outputId": "059d4958-8268-4de0-827a-bba10968a215"
      },
      "execution_count": null,
      "outputs": [
        {
          "output_type": "execute_result",
          "data": {
            "text/plain": [
              "-5"
            ],
            "text/latex": "$\\displaystyle -5$"
          },
          "metadata": {},
          "execution_count": 69
        }
      ]
    },
    {
      "cell_type": "markdown",
      "source": [
        "Наклонная асимптота существует и имеет формулу y = x - 5."
      ],
      "metadata": {
        "id": "5SBGm7wIDGqF"
      }
    },
    {
      "cell_type": "markdown",
      "source": [
        "Возвращаясь к точкам x=1 и x=9, надо сказать, что это точки разрыва, и поэтому мы можем узнать, как ведет себя функция вблизи этих точек."
      ],
      "metadata": {
        "id": "rfO_9JulFcXn"
      }
    },
    {
      "cell_type": "code",
      "source": [
        "# x = 1 (left)\n",
        "sym.limit(func(x), x, 1, dir = '-')"
      ],
      "metadata": {
        "colab": {
          "base_uri": "https://localhost:8080/",
          "height": 37
        },
        "id": "wb1jhvlFFqu3",
        "outputId": "2dc46630-9699-46b8-e1a6-f61c1c826893"
      },
      "execution_count": null,
      "outputs": [
        {
          "output_type": "execute_result",
          "data": {
            "text/plain": [
              "-oo"
            ],
            "text/latex": "$\\displaystyle -\\infty$"
          },
          "metadata": {},
          "execution_count": 55
        }
      ]
    },
    {
      "cell_type": "code",
      "source": [
        "# x = 1 (right)\n",
        "sym.limit(func(x), x, 1, dir = '+')"
      ],
      "metadata": {
        "colab": {
          "base_uri": "https://localhost:8080/",
          "height": 37
        },
        "id": "LMHIWakWHa6k",
        "outputId": "711f356f-34eb-4b1d-8fd8-5acd2054a531"
      },
      "execution_count": null,
      "outputs": [
        {
          "output_type": "execute_result",
          "data": {
            "text/plain": [
              "oo"
            ],
            "text/latex": "$\\displaystyle \\infty$"
          },
          "metadata": {},
          "execution_count": 58
        }
      ]
    },
    {
      "cell_type": "code",
      "source": [
        "# x = 9 (left)\n",
        "sym.limit(func(x), x, 9, dir = '-')"
      ],
      "metadata": {
        "colab": {
          "base_uri": "https://localhost:8080/",
          "height": 37
        },
        "id": "mn5vENXQHgo4",
        "outputId": "d2037a46-5d91-4343-e478-1c3c30cb31da"
      },
      "execution_count": null,
      "outputs": [
        {
          "output_type": "execute_result",
          "data": {
            "text/plain": [
              "-oo"
            ],
            "text/latex": "$\\displaystyle -\\infty$"
          },
          "metadata": {},
          "execution_count": 57
        }
      ]
    },
    {
      "cell_type": "code",
      "source": [
        "# x = 9 (right)\n",
        "sym.limit(func(x), x, 9, dir = '+')"
      ],
      "metadata": {
        "colab": {
          "base_uri": "https://localhost:8080/",
          "height": 37
        },
        "id": "Z1jC1DLgHjeH",
        "outputId": "a71fe443-43c0-4aa9-919b-a24819f497bc"
      },
      "execution_count": null,
      "outputs": [
        {
          "output_type": "execute_result",
          "data": {
            "text/plain": [
              "oo"
            ],
            "text/latex": "$\\displaystyle \\infty$"
          },
          "metadata": {},
          "execution_count": 59
        }
      ]
    },
    {
      "cell_type": "markdown",
      "source": [
        "Если бы мы не пользовались средствами библиотек языка программирования python, то мы бы вручную строили график функции. Для этого необходимо знать точки пересечения с осями ортогональной системы координат. "
      ],
      "metadata": {
        "id": "SytlbSgxIjPn"
      }
    },
    {
      "cell_type": "code",
      "source": [
        "import sympy as sym\n",
        "x = sym.Symbol('x')\n",
        "eq2 = sym.Eq(func(x), 0)             # (x - 5) **3 / (x**2 - 10 * x + 9)  = 0\n",
        "ans = sym.solve(eq2, x)\n",
        "ans"
      ],
      "metadata": {
        "colab": {
          "base_uri": "https://localhost:8080/"
        },
        "id": "rzqr6ljeKI31",
        "outputId": "224925b2-4dcb-45cc-b072-4645cbea6e6f"
      },
      "execution_count": null,
      "outputs": [
        {
          "output_type": "execute_result",
          "data": {
            "text/plain": [
              "[5]"
            ]
          },
          "metadata": {},
          "execution_count": 70
        }
      ]
    },
    {
      "cell_type": "code",
      "source": [
        "func(0)"
      ],
      "metadata": {
        "colab": {
          "base_uri": "https://localhost:8080/"
        },
        "id": "Hs8hvoNQK51H",
        "outputId": "40faa02c-00a9-49cf-8355-f1d6b1821e31"
      },
      "execution_count": null,
      "outputs": [
        {
          "output_type": "execute_result",
          "data": {
            "text/plain": [
              "-13.88888888888889"
            ]
          },
          "metadata": {},
          "execution_count": 71
        }
      ]
    },
    {
      "cell_type": "markdown",
      "source": [
        "Точки пересечения графика с осью x:\n",
        "\n",
        "A(5, 0)\n",
        "\n",
        "Точки пересечения графика с осью y:\n",
        "\n",
        "B(0, -13.9)"
      ],
      "metadata": {
        "id": "_olxZPu7Ltxi"
      }
    },
    {
      "cell_type": "markdown",
      "source": [
        "Далее определяем промежутки монотонности и экстремумы функции. Для этого вычисляем первые производные."
      ],
      "metadata": {
        "id": "9vjXV7QDMSdj"
      }
    },
    {
      "cell_type": "code",
      "source": [
        "d_f = func(x).diff(x)\n",
        "d_f"
      ],
      "metadata": {
        "colab": {
          "base_uri": "https://localhost:8080/",
          "height": 63
        },
        "id": "xcw-mq0GOKz6",
        "outputId": "c44fd83b-3c86-4eb7-cea9-367a3cd8a628"
      },
      "execution_count": null,
      "outputs": [
        {
          "output_type": "execute_result",
          "data": {
            "text/plain": [
              "(10 - 2*x)*(x - 5)**3/(x**2 - 10*x + 9)**2 + 3*(x - 5)**2/(x**2 - 10*x + 9)"
            ],
            "text/latex": "$\\displaystyle \\frac{\\left(10 - 2 x\\right) \\left(x - 5\\right)^{3}}{\\left(x^{2} - 10 x + 9\\right)^{2}} + \\frac{3 \\left(x - 5\\right)^{2}}{x^{2} - 10 x + 9}$"
          },
          "metadata": {},
          "execution_count": 73
        }
      ]
    },
    {
      "cell_type": "code",
      "source": [
        "d_f2 = d_f.simplify()\n",
        "d_f2"
      ],
      "metadata": {
        "colab": {
          "base_uri": "https://localhost:8080/",
          "height": 73
        },
        "id": "xDPqDo15PCGL",
        "outputId": "61db44b9-89d8-452d-a93f-54443d3e65c5"
      },
      "execution_count": null,
      "outputs": [
        {
          "output_type": "execute_result",
          "data": {
            "text/plain": [
              "(x - 5)**2*(3*x**2 - 30*x - 2*(x - 5)**2 + 27)/(x**2 - 10*x + 9)**2"
            ],
            "text/latex": "$\\displaystyle \\frac{\\left(x - 5\\right)^{2} \\left(3 x^{2} - 30 x - 2 \\left(x - 5\\right)^{2} + 27\\right)}{\\left(x^{2} - 10 x + 9\\right)^{2}}$"
          },
          "metadata": {},
          "execution_count": 76
        }
      ]
    },
    {
      "cell_type": "code",
      "source": [
        "import sympy as sym\n",
        "x = sym.Symbol('x')\n",
        "eq3 = sym.Eq(d_f2, 0)             \n",
        "ans = sym.solve(eq3, x)\n",
        "ans"
      ],
      "metadata": {
        "colab": {
          "base_uri": "https://localhost:8080/"
        },
        "id": "GIUYNZWCPQ3A",
        "outputId": "ed883b6d-6cca-4a87-d9f8-ffe0cec44d73"
      },
      "execution_count": null,
      "outputs": [
        {
          "output_type": "execute_result",
          "data": {
            "text/plain": [
              "[5, 5 - 4*sqrt(3), 5 + 4*sqrt(3)]"
            ]
          },
          "metadata": {},
          "execution_count": 77
        }
      ]
    },
    {
      "cell_type": "markdown",
      "source": [
        "Слева и справа от точки x=5 производная функции имеет один и тот же знак, что означает, что это точка не является экстремумом. "
      ],
      "metadata": {
        "id": "UZWzlKqLQOVZ"
      }
    },
    {
      "cell_type": "code",
      "source": [
        "d_f2.subs(x,4.8)"
      ],
      "metadata": {
        "colab": {
          "base_uri": "https://localhost:8080/",
          "height": 37
        },
        "id": "nUOkXJsDUFRY",
        "outputId": "115fbc18-e698-4746-9f43-b5232deeb6aa"
      },
      "execution_count": null,
      "outputs": [
        {
          "output_type": "execute_result",
          "data": {
            "text/plain": [
              "-0.00753135972763991"
            ],
            "text/latex": "$\\displaystyle -0.00753135972763991$"
          },
          "metadata": {},
          "execution_count": 78
        }
      ]
    },
    {
      "cell_type": "code",
      "source": [
        "d_f2.subs(x,5.2)"
      ],
      "metadata": {
        "colab": {
          "base_uri": "https://localhost:8080/",
          "height": 37
        },
        "id": "Byyim45_UQdV",
        "outputId": "2ae41ddb-6d1e-4bcb-d013-5e05736bfe5b"
      },
      "execution_count": null,
      "outputs": [
        {
          "output_type": "execute_result",
          "data": {
            "text/plain": [
              "-0.00753135972763992"
            ],
            "text/latex": "$\\displaystyle -0.00753135972763992$"
          },
          "metadata": {},
          "execution_count": 80
        }
      ]
    },
    {
      "cell_type": "markdown",
      "source": [
        "При подстановке значения x=5 в функцих func(x) мы получаем значение y, соответствующее пересечению с осью x. "
      ],
      "metadata": {
        "id": "lQpDL6poRJNH"
      }
    },
    {
      "cell_type": "markdown",
      "source": [
        "Проверим другие точки на роль кандидатов в экстремумы. Слева и справа от точки x=5 - 4*sqrt(3) производная функции меняет знак с '+' на '-'. Значит, мы нашли максимум функции func(x)."
      ],
      "metadata": {
        "id": "HqKpss2wUbrm"
      }
    },
    {
      "cell_type": "code",
      "source": [
        "d_f2.subs(x, -2)"
      ],
      "metadata": {
        "colab": {
          "base_uri": "https://localhost:8080/",
          "height": 51
        },
        "id": "64rVY_NkUl3v",
        "outputId": "c74813f2-5572-4ae2-ff66-0813f14bf3d8"
      },
      "execution_count": null,
      "outputs": [
        {
          "output_type": "execute_result",
          "data": {
            "text/plain": [
              "49/1089"
            ],
            "text/latex": "$\\displaystyle \\frac{49}{1089}$"
          },
          "metadata": {},
          "execution_count": 81
        }
      ]
    },
    {
      "cell_type": "code",
      "source": [
        "d_f2.subs(x, 0)"
      ],
      "metadata": {
        "colab": {
          "base_uri": "https://localhost:8080/",
          "height": 51
        },
        "id": "tIDNiTeKU1iY",
        "outputId": "4bb662d5-1491-474c-e642-1e3cee399ac5"
      },
      "execution_count": null,
      "outputs": [
        {
          "output_type": "execute_result",
          "data": {
            "text/plain": [
              "-575/81"
            ],
            "text/latex": "$\\displaystyle - \\frac{575}{81}$"
          },
          "metadata": {},
          "execution_count": 83
        }
      ]
    },
    {
      "cell_type": "markdown",
      "source": [
        "Слева и справа от точки x = 5 + 4*sqrt(3) производная функции меняет знак с '-' на '+'. Значит, мы нашли минимум функции func(x)."
      ],
      "metadata": {
        "id": "wfYjgP6zVgz0"
      }
    },
    {
      "cell_type": "code",
      "source": [
        "d_f2.subs(x, 10)"
      ],
      "metadata": {
        "colab": {
          "base_uri": "https://localhost:8080/",
          "height": 51
        },
        "id": "DGCwPrJgVcK_",
        "outputId": "fcbcdf32-3355-49e6-fa04-60c2a10ac368"
      },
      "execution_count": null,
      "outputs": [
        {
          "output_type": "execute_result",
          "data": {
            "text/plain": [
              "-575/81"
            ],
            "text/latex": "$\\displaystyle - \\frac{575}{81}$"
          },
          "metadata": {},
          "execution_count": 84
        }
      ]
    },
    {
      "cell_type": "code",
      "source": [
        "d_f2.subs(x, 12)"
      ],
      "metadata": {
        "colab": {
          "base_uri": "https://localhost:8080/",
          "height": 51
        },
        "id": "XAVgclDuVrey",
        "outputId": "86ebced4-2d1c-42e3-db1b-040958fb51f9"
      },
      "execution_count": null,
      "outputs": [
        {
          "output_type": "execute_result",
          "data": {
            "text/plain": [
              "49/1089"
            ],
            "text/latex": "$\\displaystyle \\frac{49}{1089}$"
          },
          "metadata": {},
          "execution_count": 85
        }
      ]
    },
    {
      "cell_type": "markdown",
      "source": [
        "Далее определим промежутки выпуклости и вогнутости функции func(x) с помощью второй производной."
      ],
      "metadata": {
        "id": "Uz1EnFFSWTMm"
      }
    },
    {
      "cell_type": "code",
      "source": [
        "d_f3 = d_f2.diff(x)\n",
        "d_f3"
      ],
      "metadata": {
        "colab": {
          "base_uri": "https://localhost:8080/",
          "height": 73
        },
        "id": "N3Rff5fuWsad",
        "outputId": "5d86838e-2f10-49c9-d455-104e6ed857ef"
      },
      "execution_count": null,
      "outputs": [
        {
          "output_type": "execute_result",
          "data": {
            "text/plain": [
              "(20 - 4*x)*(x - 5)**2*(3*x**2 - 30*x - 2*(x - 5)**2 + 27)/(x**2 - 10*x + 9)**3 + (x - 5)**2*(2*x - 10)/(x**2 - 10*x + 9)**2 + (2*x - 10)*(3*x**2 - 30*x - 2*(x - 5)**2 + 27)/(x**2 - 10*x + 9)**2"
            ],
            "text/latex": "$\\displaystyle \\frac{\\left(20 - 4 x\\right) \\left(x - 5\\right)^{2} \\left(3 x^{2} - 30 x - 2 \\left(x - 5\\right)^{2} + 27\\right)}{\\left(x^{2} - 10 x + 9\\right)^{3}} + \\frac{\\left(x - 5\\right)^{2} \\left(2 x - 10\\right)}{\\left(x^{2} - 10 x + 9\\right)^{2}} + \\frac{\\left(2 x - 10\\right) \\left(3 x^{2} - 30 x - 2 \\left(x - 5\\right)^{2} + 27\\right)}{\\left(x^{2} - 10 x + 9\\right)^{2}}$"
          },
          "metadata": {},
          "execution_count": 86
        }
      ]
    },
    {
      "cell_type": "code",
      "source": [
        "d_f4 = d_f3.simplify()\n",
        "d_f4"
      ],
      "metadata": {
        "colab": {
          "base_uri": "https://localhost:8080/",
          "height": 57
        },
        "id": "KOM7dm9bW6DZ",
        "outputId": "9b9e6615-b511-49ce-92fb-51170764596c"
      },
      "execution_count": null,
      "outputs": [
        {
          "output_type": "execute_result",
          "data": {
            "text/plain": [
              "32*(x**3 - 15*x**2 + 123*x - 365)/(x**6 - 30*x**5 + 327*x**4 - 1540*x**3 + 2943*x**2 - 2430*x + 729)"
            ],
            "text/latex": "$\\displaystyle \\frac{32 \\left(x^{3} - 15 x^{2} + 123 x - 365\\right)}{x^{6} - 30 x^{5} + 327 x^{4} - 1540 x^{3} + 2943 x^{2} - 2430 x + 729}$"
          },
          "metadata": {},
          "execution_count": 88
        }
      ]
    },
    {
      "cell_type": "code",
      "source": [
        "import sympy as sym\n",
        "x = sym.Symbol('x')\n",
        "eq4 = sym.Eq((32 * (x-5) * (x**2 - 10*x + 73))/((x-1)**3 * (x-9)), 0)             \n",
        "ans = sym.solve(eq4, x)\n",
        "ans"
      ],
      "metadata": {
        "colab": {
          "base_uri": "https://localhost:8080/"
        },
        "id": "kU-jnZ2vXf8o",
        "outputId": "5411392b-a46c-48e3-921f-658e2ba3cc5f"
      },
      "execution_count": null,
      "outputs": [
        {
          "output_type": "execute_result",
          "data": {
            "text/plain": [
              "[5, 5 - 4*sqrt(3)*I, 5 + 4*sqrt(3)*I]"
            ]
          },
          "metadata": {},
          "execution_count": 1
        }
      ]
    },
    {
      "cell_type": "markdown",
      "source": [
        "Из решения остается только точка x=5. Также в рассмотрение попадают точки, через которые проходят асимптоты. Знаки второй производной в промежутках между этими точками показаны ниже."
      ],
      "metadata": {
        "id": "5DeMFkYAdPvH"
      }
    },
    {
      "cell_type": "markdown",
      "source": [
        "![figgg.png](data:image/png;base64,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)"
      ],
      "metadata": {
        "id": "02fWjSNydIza"
      }
    },
    {
      "cell_type": "markdown",
      "source": [
        "В заключении построим график функции."
      ],
      "metadata": {
        "id": "XcTX19hxdja7"
      }
    },
    {
      "cell_type": "code",
      "source": [
        "import matplotlib.pyplot as plt\n",
        "x = np.linspace(-20, 20, 200)\n",
        "x[(x>0.9) & (x<1.1)] = np.nan #correction of the break point\n",
        "#x[(x>8.9) & (x<9.1)] = np.nan #correction of the break point\n",
        "\n",
        "y = np.vectorize(func)\n",
        "plt.plot(x,y(x),'b-')\n",
        "\n",
        "#images of the asymptotes\n",
        "plt.arrow(1,-25,0, 60,\n",
        "          color = 'r',\n",
        "          width = 0.008,\n",
        "          linestyle='dashed')\n",
        "\n",
        "plt.arrow(9,-25,0, 60,\n",
        "          color = 'r',\n",
        "          width = 0.008,\n",
        "          linestyle='dashed')\n",
        "\n",
        "#definition of an user fucntion\n",
        "def func2(x):\n",
        "  return (x - 5)\n",
        "y2 = np.vectorize(func2)\n",
        "plt.plot(x,y2(x),'r--')\n",
        "\n",
        "plt.xlabel('x')\n",
        "plt.ylabel('y')\n",
        "plt.xlim([-20, 20])\n",
        "plt.ylim([-25, 27])\n",
        "plt.grid()\n",
        "plt.show()"
      ],
      "metadata": {
        "colab": {
          "base_uri": "https://localhost:8080/",
          "height": 279
        },
        "id": "TU_GJGcg4XV2",
        "outputId": "7bcd7809-d026-4ef1-b1ce-bd35d5cc3846"
      },
      "execution_count": 8,
      "outputs": [
        {
          "output_type": "display_data",
          "data": {
            "text/plain": [
              "<Figure size 432x288 with 1 Axes>"
            ],
            "image/png": "[encoded data removed]"
          },
          "metadata": {
            "needs_background": "light"
          }
        }
      ]
    }
  ]
}