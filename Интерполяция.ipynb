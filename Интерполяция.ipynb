{
  "nbformat": 4,
  "nbformat_minor": 0,
  "metadata": {
    "colab": {
      "provenance": [],
      "authorship_tag": "ABX9TyMjJ9Yy6LUDeUdwxV87Bibn",
      "include_colab_link": true
    },
    "kernelspec": {
      "name": "python3",
      "display_name": "Python 3"
    },
    "language_info": {
      "name": "python"
    }
  },
  "cells": [
    {
      "cell_type": "markdown",
      "metadata": {
        "id": "view-in-github",
        "colab_type": "text"
      },
      "source": [
        "<a href=\"https://colab.research.google.com/github/albinovik/non_opt_course/blob/main/%D0%98%D0%BD%D1%82%D0%B5%D1%80%D0%BF%D0%BE%D0%BB%D1%8F%D1%86%D0%B8%D1%8F.ipynb\" target=\"_parent\"><img src=\"https://colab.research.google.com/assets/colab-badge.svg\" alt=\"Open In Colab\"/></a>"
      ]
    },
    {
      "cell_type": "markdown",
      "source": [
        "**ИНТЕРПОЛЯЦИЯ.**\n",
        "Интерполяцией называют такую разновидность аппроксимации, при которой кривая построенной функции проходит точно через имеющиеся точки данных. Аппроксимация же заключается в нахождении функции, которая максимально правдоподобно описывает набор данных, и линия графика проходит вблизи известных данных. Ниже график иллюстрирует аппрокимационную и интерполяционную кривые."
      ],
      "metadata": {
        "id": "hgQ5fbgZCKp9"
      }
    },
    {
      "cell_type": "code",
      "source": [
        "import numpy as np\n",
        "import matplotlib.pyplot as plt\n",
        "\n",
        "#dataset\n",
        "x_data = list(range(10))\n",
        "y_data = [0.9, 0.85, 1.9, 4.5, 6.27, 11.65, 12.3, 19, 23, 29.31]\n",
        "\n",
        "#definition of an user fucntion\n",
        "def func2(x):\n",
        "  if 0<=x<10:\n",
        "    return 0.388 * x**2\n",
        "x = np.linspace(0, 10, 100)\n",
        "y = np.vectorize(func2)\n",
        "plt.plot(x,y(x),'b-', label = 'approximation line')\n",
        "\n",
        "\n",
        "plt.plot(x_data, y_data, 'r--', label = 'interpolation curve')\n",
        "\n",
        "\n",
        "plt.scatter(x_data, y_data, c='black', label='data points')\n",
        "\n",
        "plt.legend()\n",
        "\n",
        "plt.xlabel('x')\n",
        "plt.ylabel('y')\n",
        "plt.show()"
      ],
      "metadata": {
        "colab": {
          "base_uri": "https://localhost:8080/",
          "height": 279
        },
        "id": "UvsGAcXIfWqV",
        "outputId": "e3557bed-b634-4e5a-bb0c-e22995ac0f97"
      },
      "execution_count": null,
      "outputs": [
        {
          "output_type": "display_data",
          "data": {
            "text/plain": [
              "<Figure size 432x288 with 1 Axes>"
            ],
            "image/png": "[encoded data removed]"
          },
          "metadata": {
            "needs_background": "light"
          }
        }
      ]
    },
    {
      "cell_type": "markdown",
      "source": [
        "**Интерполяция явной функцией.** В простейшем случае интерполяцию можно осуществить, предположив наличие некоторой явной функции. В примере ниже даны три точки. Какой линией мы можем соединить все эти точки?"
      ],
      "metadata": {
        "id": "svfywoAyZ0C-"
      }
    },
    {
      "cell_type": "code",
      "source": [
        "import numpy as np\n",
        "import matplotlib.pyplot as plt\n",
        "\n",
        "x_data = [4, 6, 7]\n",
        "y_data = [1, 3, 4]\n",
        "\n",
        "plt.annotate('A(4; 1)', xy = (3.9, 1.1))\n",
        "plt.annotate('B(6; 3)', xy = (5.8, 3.1))\n",
        "plt.annotate('C(7; 4)', xy = (6.8, 3.8))\n",
        "\n",
        "plt.scatter(x_data, y_data, c='black', label='data')\n",
        "plt.xlabel('x')\n",
        "plt.ylabel('y')\n",
        "plt.show()"
      ],
      "metadata": {
        "colab": {
          "base_uri": "https://localhost:8080/",
          "height": 279
        },
        "id": "af5Z9OMBaYCV",
        "outputId": "b1308c09-e4a8-4107-982c-33daf4d46638"
      },
      "execution_count": null,
      "outputs": [
        {
          "output_type": "display_data",
          "data": {
            "text/plain": [
              "<Figure size 432x288 with 1 Axes>"
            ],
            "image/png": "[encoded data removed]"
          },
          "metadata": {
            "needs_background": "light"
          }
        }
      ]
    },
    {
      "cell_type": "markdown",
      "source": [
        "Прямая линия, судя по всему, должна успешно пройти через данные точки. Будем проводить интерполяция с помощью линии y = K * x + B. Поскольку это линия, то для её построения будет достаточно работы с двумя точками. Третья точка в конце расчетов либо ляжет на прямую, либо станет понятно, что расчет неверен."
      ],
      "metadata": {
        "id": "gMIf3Zo7cEQQ"
      }
    },
    {
      "cell_type": "markdown",
      "source": [
        "Это приводит к решению системы уравнений:\n",
        "\n",
        "7 * K + B = 4\n",
        "\n",
        "4 * K + B = 1"
      ],
      "metadata": {
        "id": "EuKt_W3YewZu"
      }
    },
    {
      "cell_type": "markdown",
      "source": [
        "Для построения были использованы точки C и A. В результате решения найдем: K = 1, B = -3. Соответственно, линия должна выглядеть так: y = x - 3."
      ],
      "metadata": {
        "id": "FwF5lpMsf0jU"
      }
    },
    {
      "cell_type": "code",
      "source": [
        "import numpy as np\n",
        "import matplotlib.pyplot as plt\n",
        "\n",
        "x_data = [4, 6, 7]\n",
        "y_data = [1, 3, 4]\n",
        "\n",
        "plt.annotate('A(4; 1)', xy = (3.9, 1.1))\n",
        "plt.annotate('B(6; 3)', xy = (5.8, 3.1))\n",
        "plt.annotate('C(7; 4)', xy = (6.8, 3.8))\n",
        "\n",
        "#definition of an user function\n",
        "def func3(x):\n",
        "  if 0<=x<10:\n",
        "    return x - 3\n",
        "x = np.linspace(0, 10, 100)\n",
        "y = np.vectorize(func3)\n",
        "plt.plot(x,y(x),'b-', label = 'approximation line')\n",
        "\n",
        "plt.scatter(x_data, y_data, c='black', label='data')\n",
        "plt.xlabel('x')\n",
        "plt.ylabel('y')\n",
        "plt.show()"
      ],
      "metadata": {
        "colab": {
          "base_uri": "https://localhost:8080/",
          "height": 279
        },
        "id": "rbQFk_YNgoQr",
        "outputId": "f86417bc-88eb-401d-eab1-ddc833a11ee5"
      },
      "execution_count": 1,
      "outputs": [
        {
          "output_type": "display_data",
          "data": {
            "text/plain": [
              "<Figure size 432x288 with 1 Axes>"
            ],
            "image/png": "[encoded data removed]"
          },
          "metadata": {
            "needs_background": "light"
          }
        }
      ]
    },
    {
      "cell_type": "markdown",
      "source": [
        "**Интерполяция параметрически заданной функцией.**"
      ],
      "metadata": {
        "id": "lmJjog-thqFS"
      }
    },
    {
      "cell_type": "markdown",
      "source": [
        "Понятно, что в более сложных случаях мы можем не угадать с кривой. А иногда нам, вообще, может понадобиться интерполяция параметрически заданной функцией. Рассмотрим снова три точки, как показано ниже:"
      ],
      "metadata": {
        "id": "dNo4T34LhHuT"
      }
    },
    {
      "cell_type": "code",
      "source": [
        "import numpy as np\n",
        "import matplotlib.pyplot as plt\n",
        "\n",
        "x_data = [2, 5, 6]\n",
        "y_data = [5, 6, 3]\n",
        "\n",
        "plt.annotate('A(2; 5)', xy = (1.9, 5.2))\n",
        "plt.annotate('C(5; 6)', xy = (5.8, 3.1))\n",
        "plt.annotate('B(6; 3)', xy = (4.8, 5.7))\n",
        "\n",
        "plt.scatter(x_data, y_data, c='black', label='data')\n",
        "plt.xlabel('x')\n",
        "plt.ylabel('y')\n",
        "plt.show()"
      ],
      "metadata": {
        "colab": {
          "base_uri": "https://localhost:8080/",
          "height": 279
        },
        "id": "UNuUAVSgn-eh",
        "outputId": "26a0972f-ff3c-4480-9d05-ebb4c9a4fe44"
      },
      "execution_count": null,
      "outputs": [
        {
          "output_type": "display_data",
          "data": {
            "text/plain": [
              "<Figure size 432x288 with 1 Axes>"
            ],
            "image/png": "[encoded data removed]"
          },
          "metadata": {
            "needs_background": "light"
          }
        }
      ]
    },
    {
      "cell_type": "markdown",
      "source": [
        "Параметрическая функция **p(t)**, которая строит интерполяционную кривую, может быть преставлена двумя полиномами:\n",
        "\n"
      ],
      "metadata": {
        "id": "elFQokzmp9Nn"
      }
    },
    {
      "cell_type": "markdown",
      "source": [
        "$a10 + a11 t + a12 t^2$\n",
        "\n",
        "$a20 + a21 t + a22 t^2$"
      ],
      "metadata": {
        "id": "14OU2W4Eqo0F"
      }
    },
    {
      "cell_type": "markdown",
      "source": [
        "Предполагая, что при подстановки t=0 полиномы возвращают координаты первой точки, при подстановки t=1/2 - координаты второй, а при подстановки t=1 - координаты третей, мы сможем найти коэффициенты полиномов. Перечисленные выше предположения можно сформулировать следующим образом:"
      ],
      "metadata": {
        "id": "JOvmimX6q_Y8"
      }
    },
    {
      "cell_type": "markdown",
      "source": [
        "p(0) = A, p($\\frac{1}{2}$) = B, p(1) = C "
      ],
      "metadata": {
        "id": "BtpKuPSOrg-o"
      }
    },
    {
      "cell_type": "markdown",
      "source": [
        "Получается, что интерполяция происходит на интервале [0, 1] для параметра t."
      ],
      "metadata": {
        "id": "S5y2n9Azr8vf"
      }
    },
    {
      "cell_type": "markdown",
      "source": [
        "Подставим наши предположения для параметра t в первый полином:"
      ],
      "metadata": {
        "id": "ZEGKkq0Zsrw3"
      }
    },
    {
      "cell_type": "markdown",
      "source": [
        "a10 = A\n",
        "\n",
        "a10 + a11 $\\frac{1}{2}$ + a12 $\\frac{1}{4}$ = В\n",
        "\n",
        "a10 + a11 +a12 = C"
      ],
      "metadata": {
        "id": "ah8iEWGbsyNe"
      }
    },
    {
      "cell_type": "markdown",
      "source": [
        "Для упрощения можно взять только координаты на оси x точек A, B, C:"
      ],
      "metadata": {
        "id": "ervpWP7stTUa"
      }
    },
    {
      "cell_type": "markdown",
      "source": [
        "a10 = xA\n",
        "\n",
        "a10 + a11 $\\frac{1}{2}$ + a12 $\\frac{1}{4}$ = xВ\n",
        "\n",
        "a10 + a11 +a12 = xC"
      ],
      "metadata": {
        "id": "MbSbKUQ5tf0b"
      }
    },
    {
      "cell_type": "markdown",
      "source": [
        "Фактически здесь записано уравнение для матриц и реализовано матричное умножение матрицы коэффициентов первого полинома"
      ],
      "metadata": {
        "id": "iuouR_3XtoSu"
      }
    },
    {
      "cell_type": "code",
      "source": [
        "import sympy as sym\n",
        "\n",
        "t, a10, a11, a12 = sym.symbols('t a10 a11 a12')\n",
        "\n",
        "M1 = sym.Matrix([[a10], [a11],[a12]])\n",
        "M1"
      ],
      "metadata": {
        "colab": {
          "base_uri": "https://localhost:8080/",
          "height": 78
        },
        "id": "ZG_MXOn-ufHK",
        "outputId": "642d37ef-2ccb-4960-8c26-f70877e1f260"
      },
      "execution_count": 2,
      "outputs": [
        {
          "output_type": "execute_result",
          "data": {
            "text/plain": [
              "Matrix([\n",
              "[a10],\n",
              "[a11],\n",
              "[a12]])"
            ],
            "text/latex": "$\\displaystyle \\left[\\begin{matrix}a_{10}\\\\a_{11}\\\\a_{12}\\end{matrix}\\right]$"
          },
          "metadata": {},
          "execution_count": 2
        }
      ]
    },
    {
      "cell_type": "markdown",
      "source": [
        "и некоторой числовой матрицы:"
      ],
      "metadata": {
        "id": "0GeaBPFfvkDE"
      }
    },
    {
      "cell_type": "code",
      "source": [
        "M2 = sym.Matrix([[1, 0, 0], [1, 0.5, 0.25],[1, 1, 1]])\n",
        "M2"
      ],
      "metadata": {
        "colab": {
          "base_uri": "https://localhost:8080/",
          "height": 78
        },
        "id": "NK3gBqCZvjcQ",
        "outputId": "022f9517-d7ec-475a-a5b2-af25dbfaa030"
      },
      "execution_count": 3,
      "outputs": [
        {
          "output_type": "execute_result",
          "data": {
            "text/plain": [
              "Matrix([\n",
              "[1,   0,    0],\n",
              "[1, 0.5, 0.25],\n",
              "[1,   1,    1]])"
            ],
            "text/latex": "$\\displaystyle \\left[\\begin{matrix}1 & 0 & 0\\\\1 & 0.5 & 0.25\\\\1 & 1 & 1\\end{matrix}\\right]$"
          },
          "metadata": {},
          "execution_count": 3
        }
      ]
    },
    {
      "cell_type": "markdown",
      "source": [
        "Это легко проверить матричным умножением:"
      ],
      "metadata": {
        "id": "igFIpwQcv2OH"
      }
    },
    {
      "cell_type": "code",
      "source": [
        "M2*M1"
      ],
      "metadata": {
        "colab": {
          "base_uri": "https://localhost:8080/",
          "height": 78
        },
        "id": "e4GTP_Iivi_g",
        "outputId": "312ed8b0-37bb-447d-9d04-34e25b01a57d"
      },
      "execution_count": null,
      "outputs": [
        {
          "output_type": "execute_result",
          "data": {
            "text/plain": [
              "Matrix([\n",
              "[                     a10],\n",
              "[a10 + 0.5*a11 + 0.25*a12],\n",
              "[         a10 + a11 + a12]])"
            ],
            "text/latex": "$\\displaystyle \\left[\\begin{matrix}a_{10}\\\\a_{10} + 0.5 a_{11} + 0.25 a_{12}\\\\a_{10} + a_{11} + a_{12}\\end{matrix}\\right]$"
          },
          "metadata": {},
          "execution_count": 58
        }
      ]
    },
    {
      "cell_type": "markdown",
      "source": [
        "Тогда, чтобы получить матрицу интерполяции (в данном случае, квадратичной интерполяции), нужно взять обратную матрицу от M2 и перемножить её на координаты точек."
      ],
      "metadata": {
        "id": "VNmDTtE6xHdn"
      }
    },
    {
      "cell_type": "markdown",
      "source": [
        "Найдем обратную матрицу для M:"
      ],
      "metadata": {
        "id": "bpeghSvCx9Kp"
      }
    },
    {
      "cell_type": "code",
      "source": [
        "M3 = M2.inv()\n",
        "M3"
      ],
      "metadata": {
        "colab": {
          "base_uri": "https://localhost:8080/",
          "height": 78
        },
        "id": "nYmO6MjEyBbV",
        "outputId": "01c1ff2c-795c-4b50-837b-d9c7a6b076ec"
      },
      "execution_count": 4,
      "outputs": [
        {
          "output_type": "execute_result",
          "data": {
            "text/plain": [
              "Matrix([\n",
              "[   1,    0,    0],\n",
              "[-3.0,  4.0, -1.0],\n",
              "[ 2.0, -4.0,  2.0]])"
            ],
            "text/latex": "$\\displaystyle \\left[\\begin{matrix}1 & 0 & 0\\\\-3.0 & 4.0 & -1.0\\\\2.0 & -4.0 & 2.0\\end{matrix}\\right]$"
          },
          "metadata": {},
          "execution_count": 4
        }
      ]
    },
    {
      "cell_type": "markdown",
      "source": [
        "Теперь найдем коэффициенты первого полинома:"
      ],
      "metadata": {
        "id": "xmGXqDTbyO8F"
      }
    },
    {
      "cell_type": "code",
      "source": [
        "# the x coordinates matrix of A,B,C points\n",
        "Mx = sym.Matrix([[2], [5],[6]])\n",
        "\n",
        "#matrixes multiplicatin\n",
        "M3*Mx"
      ],
      "metadata": {
        "colab": {
          "base_uri": "https://localhost:8080/",
          "height": 78
        },
        "id": "iuLm59mEyTcs",
        "outputId": "0172a6cb-3c33-4c5b-93b7-77f22c0c24a5"
      },
      "execution_count": 6,
      "outputs": [
        {
          "output_type": "execute_result",
          "data": {
            "text/plain": [
              "Matrix([\n",
              "[   2],\n",
              "[ 8.0],\n",
              "[-4.0]])"
            ],
            "text/latex": "$\\displaystyle \\left[\\begin{matrix}2\\\\8.0\\\\-4.0\\end{matrix}\\right]$"
          },
          "metadata": {},
          "execution_count": 6
        }
      ]
    },
    {
      "cell_type": "code",
      "source": [
        "# the y coordinates matrix of A,B,C points\n",
        "My = sym.Matrix([[5], [6],[3]])\n",
        "\n",
        "#matrixes multiplicatin\n",
        "M3*My"
      ],
      "metadata": {
        "colab": {
          "base_uri": "https://localhost:8080/",
          "height": 78
        },
        "id": "NJOcclK70Zgj",
        "outputId": "be5aced8-ca12-45b8-83cc-14ff50558347"
      },
      "execution_count": 7,
      "outputs": [
        {
          "output_type": "execute_result",
          "data": {
            "text/plain": [
              "Matrix([\n",
              "[   5],\n",
              "[ 6.0],\n",
              "[-8.0]])"
            ],
            "text/latex": "$\\displaystyle \\left[\\begin{matrix}5\\\\6.0\\\\-8.0\\end{matrix}\\right]$"
          },
          "metadata": {},
          "execution_count": 7
        }
      ]
    },
    {
      "cell_type": "markdown",
      "source": [
        "Таким образом, результатом является функция **p(t)**, полиномы которой выглядят следующим образом:"
      ],
      "metadata": {
        "id": "2hwpKXJF0kc4"
      }
    },
    {
      "cell_type": "markdown",
      "source": [
        "$2 + 8 t - 4 t^2$\n",
        "\n",
        "$5 + 6 t - 8 t^2$"
      ],
      "metadata": {
        "id": "owV5I3VD00o5"
      }
    },
    {
      "cell_type": "markdown",
      "source": [
        "Проиллюстрируем решение на графике:"
      ],
      "metadata": {
        "id": "IPLfK8BQ1EIv"
      }
    },
    {
      "cell_type": "code",
      "source": [
        "import numpy as np\n",
        "import matplotlib.pyplot as plt\n",
        "\n",
        "x_data = [2, 5, 6]\n",
        "y_data = [5, 6, 3]\n",
        "\n",
        "plt.annotate('A(2; 5)', xy = (1.9, 5.2))\n",
        "plt.annotate('C(5; 6)', xy = (5.8, 3.1))\n",
        "plt.annotate('B(6; 3)', xy = (4.8, 5.7))\n",
        "\n",
        "t=np.linspace(0,10,100)\n",
        "x=2 + 8 * t - 4 * t**2\n",
        "y=5 + 6 * t - 8 * t**2\n",
        "plt.plot(x, y, 'b-')# b- red colour and unbroken line\n",
        "\n",
        "plt.scatter(x_data, y_data, c='black', label='data')\n",
        "plt.xlabel('x')\n",
        "plt.ylabel('y')\n",
        "plt.xlim([1, 7])#range for x\n",
        "plt.ylim([2, 7])#range for y\n",
        "plt.show()"
      ],
      "metadata": {
        "colab": {
          "base_uri": "https://localhost:8080/",
          "height": 283
        },
        "id": "93hEMu_k0z9V",
        "outputId": "7e5f1c68-ff09-4881-8a24-93879fb29700"
      },
      "execution_count": 8,
      "outputs": [
        {
          "output_type": "display_data",
          "data": {
            "text/plain": [
              "<Figure size 432x288 with 1 Axes>"
            ],
            "image/png": "[encoded data removed]"
          },
          "metadata": {
            "needs_background": "light"
          }
        }
      ]
    },
    {
      "cell_type": "markdown",
      "source": [
        "**Интерполяция средствами Python.**"
      ],
      "metadata": {
        "id": "F13tckMBh1zl"
      }
    },
    {
      "cell_type": "markdown",
      "source": [
        "Специализированные методы для построения интерполяционных кривых могут быть найдены в библиотеке scipy."
      ],
      "metadata": {
        "id": "OKiOItPujwCI"
      }
    },
    {
      "cell_type": "code",
      "source": [
        "import numpy as np\n",
        "import matplotlib.pyplot as plt\n",
        "\n",
        "#dataset\n",
        "x_data = list(range(10))\n",
        "y_data = [0.9, 0.85, 1.9, 4.5, 6.27, 11.65, 12.3, 19, 23, 29.31]\n",
        "\n",
        "\n",
        "from scipy import interpolate\n",
        "f=interpolate.interp1d(x_data,y_data, kind = 'quadratic')\n",
        "#f=interpolate.interp1d(x_data,y_data, kind = 'cubic')\n",
        "\n",
        "ynew=f(x_data)\n",
        "plt.plot(x_data,ynew, 'r--')\n",
        "\n",
        "\n",
        "plt.scatter(x_data, y_data, c='black', label='data')\n",
        "plt.xlabel('x')\n",
        "plt.ylabel('y')\n",
        "plt.show()"
      ],
      "metadata": {
        "colab": {
          "base_uri": "https://localhost:8080/",
          "height": 279
        },
        "id": "I6gW6bdKavzx",
        "outputId": "e430ffcb-b8b1-4ae6-d03a-10f209486389"
      },
      "execution_count": 10,
      "outputs": [
        {
          "output_type": "display_data",
          "data": {
            "text/plain": [
              "<Figure size 432x288 with 1 Axes>"
            ],
            "image/png": "[encoded data removed]"
          },
          "metadata": {
            "needs_background": "light"
          }
        }
      ]
    }
  ]
}