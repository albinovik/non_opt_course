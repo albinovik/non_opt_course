{
  "nbformat": 4,
  "nbformat_minor": 0,
  "metadata": {
    "colab": {
      "provenance": [],
      "authorship_tag": "ABX9TyP7R8XK/yKYljRK/2ALOOBO",
      "include_colab_link": true
    },
    "kernelspec": {
      "name": "python3",
      "display_name": "Python 3"
    },
    "language_info": {
      "name": "python"
    }
  },
  "cells": [
    {
      "cell_type": "markdown",
      "metadata": {
        "id": "view-in-github",
        "colab_type": "text"
      },
      "source": [
        "<a href=\"https://colab.research.google.com/github/albinovik/non_opt_course/blob/main/%D0%9D%D0%B5%D0%BF%D1%80%D0%B5%D1%80%D1%8B%D0%B2%D0%BD%D0%BE%D1%81%D1%82%D1%8C_%D0%B8_%D0%B4%D0%B8%D1%84%D1%84%D0%B5%D1%80%D0%B5%D0%BD%D1%86%D0%B8%D1%80%D1%83%D0%B5%D0%BC%D0%BE%D1%81%D1%82%D1%8C.ipynb\" target=\"_parent\"><img src=\"https://colab.research.google.com/assets/colab-badge.svg\" alt=\"Open In Colab\"/></a>"
      ]
    },
    {
      "cell_type": "markdown",
      "source": [
        "**НАХОЖДЕНИЕ ПРОИЗВОДНЫХ ФУНКЦИЙ.**"
      ],
      "metadata": {
        "id": "vcLS_x9PoT8G"
      }
    },
    {
      "cell_type": "markdown",
      "source": [
        "Поскольку numpy работает с массивами, то вычисление производной может быть осложнено. NumPy не предоставляет общей функциональности для вычисления производных. Мы можем найти производную, например, задав функцию как полином."
      ],
      "metadata": {
        "id": "xw9yonGgsP5I"
      }
    },
    {
      "cell_type": "code",
      "execution_count": 4,
      "metadata": {
        "colab": {
          "base_uri": "https://localhost:8080/"
        },
        "id": "fealRo6fn43l",
        "outputId": "edbf563e-8010-42e9-8d95-08e209039574"
      },
      "outputs": [
        {
          "output_type": "stream",
          "name": "stdout",
          "text": [
            "   2\n",
            "3 x + 1 x + 3\n"
          ]
        }
      ],
      "source": [
        "import numpy as np\n",
        "\n",
        "p = np.poly1d([3, 1, 3])\n",
        "print(p)"
      ]
    },
    {
      "cell_type": "code",
      "source": [
        "q = p.deriv()\n",
        "print(q)"
      ],
      "metadata": {
        "colab": {
          "base_uri": "https://localhost:8080/"
        },
        "id": "tN1nbCUbt2OU",
        "outputId": "ff7d3213-5793-4f97-9813-3cdc99d66efb"
      },
      "execution_count": 5,
      "outputs": [
        {
          "output_type": "stream",
          "name": "stdout",
          "text": [
            " \n",
            "6 x + 1\n"
          ]
        }
      ]
    },
    {
      "cell_type": "markdown",
      "source": [
        "Для нахождения производных лучше всего подходят приложения символьной математики. Библиотека sympy может быть рассмотрена как такой ресурс."
      ],
      "metadata": {
        "id": "7rUztqdQuY3q"
      }
    },
    {
      "cell_type": "code",
      "source": [
        "import sympy as sym\n",
        "\n",
        "#Power rule\n",
        "x = sym.Symbol('x')\n",
        "f = x**5\n",
        "d_f = f.diff(x)\n",
        "d_f"
      ],
      "metadata": {
        "colab": {
          "base_uri": "https://localhost:8080/",
          "height": 38
        },
        "id": "mF5q5kCSukue",
        "outputId": "cbbd6969-baec-4cb1-c189-407fafce67df"
      },
      "execution_count": 7,
      "outputs": [
        {
          "output_type": "execute_result",
          "data": {
            "text/plain": [
              "5*x**4"
            ],
            "text/latex": "$\\displaystyle 5 x^{4}$"
          },
          "metadata": {},
          "execution_count": 7
        }
      ]
    },
    {
      "cell_type": "code",
      "source": [
        "f = sym.exp(x)*sym.cos(x)\n",
        "d_f = f.diff(x)\n",
        "d_f"
      ],
      "metadata": {
        "colab": {
          "base_uri": "https://localhost:8080/",
          "height": 38
        },
        "id": "58m-lRIgvP_S",
        "outputId": "ef7da291-8b85-4214-da25-c4dc31012656"
      },
      "execution_count": 8,
      "outputs": [
        {
          "output_type": "execute_result",
          "data": {
            "text/plain": [
              "-exp(x)*sin(x) + exp(x)*cos(x)"
            ],
            "text/latex": "$\\displaystyle - e^{x} \\sin{\\left(x \\right)} + e^{x} \\cos{\\left(x \\right)}$"
          },
          "metadata": {},
          "execution_count": 8
        }
      ]
    },
    {
      "cell_type": "markdown",
      "source": [
        "Можно вычислить непосредственно значение данной производной в конкретной точке."
      ],
      "metadata": {
        "id": "yTnOXMg_wFS1"
      }
    },
    {
      "cell_type": "code",
      "source": [
        "f = sym.sin(4 * x**2)\n",
        "d_f = f.diff(x)\n",
        "d_f"
      ],
      "metadata": {
        "colab": {
          "base_uri": "https://localhost:8080/",
          "height": 38
        },
        "id": "OI0dmy8ovXyt",
        "outputId": "67e2717b-67b2-4880-9eda-eb656a3d9793"
      },
      "execution_count": 9,
      "outputs": [
        {
          "output_type": "execute_result",
          "data": {
            "text/plain": [
              "8*x*cos(4*x**2)"
            ],
            "text/latex": "$\\displaystyle 8 x \\cos{\\left(4 x^{2} \\right)}$"
          },
          "metadata": {},
          "execution_count": 9
        }
      ]
    },
    {
      "cell_type": "code",
      "source": [
        "result = d_f.subs(x,2)\n",
        "result"
      ],
      "metadata": {
        "colab": {
          "base_uri": "https://localhost:8080/",
          "height": 37
        },
        "id": "KloAPHXM5TyF",
        "outputId": "33b1b704-943d-4c37-db10-dff03508c176"
      },
      "execution_count": null,
      "outputs": [
        {
          "output_type": "execute_result",
          "data": {
            "text/plain": [
              "16*cos(16)"
            ],
            "text/latex": "$\\displaystyle 16 \\cos{\\left(16 \\right)}$"
          },
          "metadata": {},
          "execution_count": 46
        }
      ]
    },
    {
      "cell_type": "markdown",
      "source": [
        "Функции, которые встречаются на практике, могут быть сколь угодно сложными. В общем случае, они зависят более, чем от одной переменной. Хотя, всегда можно зафиксировать ряд параметров функции, оставив изменяемым только один. В этом случае мы продолжаем работать с функцией одной переменной и дифференцировать её, если она, вообще, дифференцируема."
      ],
      "metadata": {
        "id": "3HdUDqt_7c7F"
      }
    },
    {
      "cell_type": "code",
      "source": [
        "f = 1 /x\n",
        "d_f = f.diff(x)\n",
        "d_f"
      ],
      "metadata": {
        "colab": {
          "base_uri": "https://localhost:8080/",
          "height": 51
        },
        "id": "H1A0xCvO7WI-",
        "outputId": "00f0e478-1647-495f-efba-bfc5c4d08795"
      },
      "execution_count": null,
      "outputs": [
        {
          "output_type": "execute_result",
          "data": {
            "text/plain": [
              "-1/x**2"
            ],
            "text/latex": "$\\displaystyle - \\frac{1}{x^{2}}$"
          },
          "metadata": {},
          "execution_count": 48
        }
      ]
    },
    {
      "cell_type": "code",
      "source": [
        "result = d_f.subs(x,0)\n",
        "result"
      ],
      "metadata": {
        "colab": {
          "base_uri": "https://localhost:8080/",
          "height": 37
        },
        "id": "BPAqxSbY85eZ",
        "outputId": "381d13dc-5b53-4de6-d387-88f67aeb79de"
      },
      "execution_count": null,
      "outputs": [
        {
          "output_type": "execute_result",
          "data": {
            "text/plain": [
              "zoo"
            ],
            "text/latex": "$\\displaystyle \\tilde{\\infty}$"
          },
          "metadata": {},
          "execution_count": 49
        }
      ]
    },
    {
      "cell_type": "markdown",
      "source": [
        "Python выдаёт результат в виде бесконечности. Это значение предела, поскольку производная является пределом. Итак, производной в точке x=0 у функции f(x) 1/x не существует."
      ],
      "metadata": {
        "id": "HkwjjHRE9abJ"
      }
    },
    {
      "cell_type": "code",
      "source": [
        "import numpy as np\n",
        "import matplotlib.pyplot as plt\n",
        "\n",
        "x = np.linspace(-5,5, 100)\n",
        "\n",
        "plt.plot(x, - 1 / x**2, 'b-')\n",
        "plt.xlim([-5,5])#range for x\n",
        "plt.ylim([-10,2])#range for y\n",
        "\n",
        "plt.arrow(-2, -9, 1, 0,\n",
        "          head_length = 0.5,\n",
        "          head_width = 0.4,\n",
        "          width = 0.15,\n",
        "          color = 'r')\n",
        "\n",
        "plt.annotate('y -> - inf', xy = (-2, -8))\n",
        "\n",
        "plt.arrow(2, -9, -1, 0,\n",
        "          head_length = 0.5,\n",
        "          head_width = 0.4,\n",
        "          width = 0.15,\n",
        "          color = 'r')\n",
        "\n",
        "plt.annotate('y -> - inf', xy = (0.6, -8))\n",
        "\n",
        "\n",
        "plt.grid()\n",
        "plt.show()"
      ],
      "metadata": {
        "colab": {
          "base_uri": "https://localhost:8080/",
          "height": 269
        },
        "id": "HiirvkZp96jY",
        "outputId": "a0ff344d-9d84-4797-a0ba-bd444a8afb98"
      },
      "execution_count": null,
      "outputs": [
        {
          "output_type": "display_data",
          "data": {
            "text/plain": [
              "<Figure size 432x288 with 1 Axes>"
            ],
            "image/png": "[encoded data removed]"
          },
          "metadata": {
            "needs_background": "light"
          }
        }
      ]
    },
    {
      "cell_type": "markdown",
      "source": [
        "**ПРОСТЕЙШИЕ ЗАДАЧИ ОПТИМИЗАЦИИ.**\n",
        "\n",
        "Простейшие задачи оптимизации могут быть решены даже без привлечения производной, либо с нахождением производной несложной функции одного переменного. "
      ],
      "metadata": {
        "id": "Bux_X7tDv4DM"
      }
    },
    {
      "cell_type": "markdown",
      "source": [
        "**Задача 1.** Зинаида является владельцем двух заводов в разных городах. На заводах\n",
        "производятся абсолютно одинаковые товары, но на заводе, расположенном во\n",
        "втором городе, используется более совершенное оборудование. В результате\n",
        "если рабочие на заводе, расположенном в первом городе, трудятся суммарно $t^2$\n",
        "часов в неделю, то за эту неделю они производят 8t единиц товара, а если\n",
        "рабочие на заводе, расположенном во втором городе, трудятся суммарно $t^2$ часов\n",
        "в неделю, то за эту неделю они производят 15t единиц товара. За каждый час\n",
        "работы (на каждом из заводов) Зинаида платит рабочему 600 рублей. Зинаиде\n",
        "нужно каждую неделю производить 578 единиц товара. Какую наименьшую\n",
        "сумму придѐтся тратить еженедельно на оплату труда рабочих?"
      ],
      "metadata": {
        "id": "5M5hEbwUwcRE"
      }
    },
    {
      "cell_type": "markdown",
      "source": [
        "**Решение.** Необходимое количество товаров за неделю будет проиведено на обеих заводах. Это выражается формулй:"
      ],
      "metadata": {
        "id": "L6pHgcYl1JIU"
      }
    },
    {
      "cell_type": "markdown",
      "source": [
        "$8t_1 + 15t_2 = 578$"
      ],
      "metadata": {
        "id": "vaFEYC0c1WtX"
      }
    },
    {
      "cell_type": "markdown",
      "source": [
        "Если мы ищем минимальную сумму, которая будет потрачена на оплату труда рабочих, то мы подразумеваем, что суммарно на обеих заводах будет потрачено часов в неделю:"
      ],
      "metadata": {
        "id": "dUPIFZwI1d4D"
      }
    },
    {
      "cell_type": "markdown",
      "source": [
        "$t_1^{2} + t_2^{2}$"
      ],
      "metadata": {
        "id": "RWgZjbaX1_ov"
      }
    },
    {
      "cell_type": "markdown",
      "source": [
        "Эту функцию надо минимизировать. Воспользовавшись данными о количестве товара, можно переписать целевую функцию в терминах одной переменной:"
      ],
      "metadata": {
        "id": "p5H3sPzq2KFZ"
      }
    },
    {
      "cell_type": "markdown",
      "source": [
        "$t_2 = \\frac{ 578-8 t_1 }{15}$"
      ],
      "metadata": {
        "id": "d2h4qvop2wsq"
      }
    },
    {
      "cell_type": "markdown",
      "source": [
        "$P(t_1) =   t_1^{2} + (\\frac{ 578-8 t_1 }{15})^{2}$ "
      ],
      "metadata": {
        "id": "sdCRJpDL3yNx"
      }
    },
    {
      "cell_type": "code",
      "source": [
        "import sympy as sym\n",
        "\n",
        "t1 = sym.Symbol('t1')\n",
        "f = t1**2 + ((578 - 8*t1)/15)**2\n",
        "d_f = f.diff(t1)\n",
        "d_f"
      ],
      "metadata": {
        "colab": {
          "base_uri": "https://localhost:8080/",
          "height": 51
        },
        "id": "5yoR_eOU1_Bm",
        "outputId": "800f6a5d-dd94-4d00-e985-642c82db363f"
      },
      "execution_count": 10,
      "outputs": [
        {
          "output_type": "execute_result",
          "data": {
            "text/plain": [
              "578*t1/225 - 9248/225"
            ],
            "text/latex": "$\\displaystyle \\frac{578 t_{1}}{225} - \\frac{9248}{225}$"
          },
          "metadata": {},
          "execution_count": 10
        }
      ]
    },
    {
      "cell_type": "code",
      "source": [
        "from sympy.solvers import solve\n",
        "\n",
        "solve(578*t1/225 - 9248/225, t1)"
      ],
      "metadata": {
        "colab": {
          "base_uri": "https://localhost:8080/"
        },
        "id": "A9LV8W175nHR",
        "outputId": "a918e17d-5336-45cf-b36a-4fcddacd5ea2"
      },
      "execution_count": null,
      "outputs": [
        {
          "output_type": "execute_result",
          "data": {
            "text/plain": [
              "[16.0000000000000]"
            ]
          },
          "metadata": {},
          "execution_count": 16
        }
      ]
    },
    {
      "cell_type": "markdown",
      "source": [
        "![tt.png](data:image/png;base64,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)"
      ],
      "metadata": {
        "id": "BujH2A74DUR4"
      }
    },
    {
      "cell_type": "markdown",
      "source": [
        "Функция имеет минимум в точке $t_1=16$. При этом $t_2 = \\frac{ 578-8 t_1 }{15}= 30$. Всего человеко-часов будет:"
      ],
      "metadata": {
        "id": "8eZ7j4ZT8hPs"
      }
    },
    {
      "cell_type": "markdown",
      "source": [
        "$t_1^{2} + t_2^{2}$:"
      ],
      "metadata": {
        "id": "_UM6AaEX-eAE"
      }
    },
    {
      "cell_type": "code",
      "source": [
        "f2= 16**2 + 30**2\n",
        "f2"
      ],
      "metadata": {
        "colab": {
          "base_uri": "https://localhost:8080/"
        },
        "id": "q_3FJ08o99MN",
        "outputId": "7268e820-fcef-4f47-ad30-a1eb57989828"
      },
      "execution_count": null,
      "outputs": [
        {
          "output_type": "execute_result",
          "data": {
            "text/plain": [
              "1156"
            ]
          },
          "metadata": {},
          "execution_count": 17
        }
      ]
    },
    {
      "cell_type": "markdown",
      "source": [
        "И минимум на это будет потрачено:"
      ],
      "metadata": {
        "id": "3Fn-C2RjCJMc"
      }
    },
    {
      "cell_type": "code",
      "source": [
        "f2*600"
      ],
      "metadata": {
        "colab": {
          "base_uri": "https://localhost:8080/"
        },
        "id": "GGj-MaFJCQ3k",
        "outputId": "521de72c-f4c7-46b4-d60d-e84f300e41f3"
      },
      "execution_count": null,
      "outputs": [
        {
          "output_type": "execute_result",
          "data": {
            "text/plain": [
              "693600"
            ]
          },
          "metadata": {},
          "execution_count": 18
        }
      ]
    },
    {
      "cell_type": "markdown",
      "source": [
        "**Задача 2.** Строительство нового завода стоит 104 млн рублей. Затраты на производство х тыс. ед. продукции на таком заводе равны $f(x) = 0,5 x^2 + 2x + 6$ млн рублей в год. Если продукцию завода продать по цене g тыс. рублей за единицу, то прибыль фирмы (в млн рублей) за один год составит g*x - f(x). После окончания строительства завода фирма будет выпускать продукцию в таком количестве, чтобы прибыль была максимальной. При каком наименьшем значении g строительство завода окупится не более чем за 4 года?"
      ],
      "metadata": {
        "id": "bU3Xx9VpxX5X"
      }
    },
    {
      "cell_type": "markdown",
      "source": [
        "Функция прибыли выглядит следующим образом:"
      ],
      "metadata": {
        "id": "4Pr96j47EZui"
      }
    },
    {
      "cell_type": "code",
      "source": [
        "import sympy as sym\n",
        "\n",
        "x = sym.Symbol('x')\n",
        "g = sym.Symbol('g')\n",
        "\n",
        "f3 = g*x - 0.5*x**2 - 2*x - 6"
      ],
      "metadata": {
        "id": "xCl0u6pMDrmL"
      },
      "execution_count": null,
      "outputs": []
    },
    {
      "cell_type": "markdown",
      "source": [
        "Найдем производную и решим уравнение для производной, равной нулю:"
      ],
      "metadata": {
        "id": "SHWrclLpFk_Y"
      }
    },
    {
      "cell_type": "code",
      "source": [
        "f3 = f3.diff(x)\n",
        "f3"
      ],
      "metadata": {
        "colab": {
          "base_uri": "https://localhost:8080/",
          "height": 38
        },
        "id": "h3ve733_Fn5Q",
        "outputId": "40c2e323-bfad-4709-9899-30065182c70d"
      },
      "execution_count": null,
      "outputs": [
        {
          "output_type": "execute_result",
          "data": {
            "text/plain": [
              "g - 1.0*x - 2"
            ],
            "text/latex": "$\\displaystyle g - 1.0 x - 2$"
          },
          "metadata": {},
          "execution_count": 24
        }
      ]
    },
    {
      "cell_type": "code",
      "source": [
        "from sympy.solvers import solve\n",
        "\n",
        "solve(g - x - 2, x)"
      ],
      "metadata": {
        "colab": {
          "base_uri": "https://localhost:8080/"
        },
        "id": "6uo7d_mWGO3r",
        "outputId": "abf8c01b-5535-4cdc-876a-6d0461ee0821"
      },
      "execution_count": null,
      "outputs": [
        {
          "output_type": "execute_result",
          "data": {
            "text/plain": [
              "[g - 2]"
            ]
          },
          "metadata": {},
          "execution_count": 25
        }
      ]
    },
    {
      "cell_type": "markdown",
      "source": [
        "![tt — копия.png](data:image/png;base64,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)"
      ],
      "metadata": {
        "id": "NOlT2pBHGh1K"
      }
    },
    {
      "cell_type": "markdown",
      "source": [
        "В точке $x = g -2$ функция имеет максимум. Подставим это значение в исходную функцию, наложим условие, что зстроительство окупится за 4 года (104/4=26), получим:"
      ],
      "metadata": {
        "id": "R90W2He_Gp3O"
      }
    },
    {
      "cell_type": "markdown",
      "source": [
        "$g(g-2)-\\frac{1}{2}(g-2)^2 - 2(g-2) -6 \\geq 26$"
      ],
      "metadata": {
        "id": "jpQF7tQRHrul"
      }
    },
    {
      "cell_type": "markdown",
      "source": [
        "$\\frac{1}{2}g^2 - 2g - 30 \\geq 0$"
      ],
      "metadata": {
        "id": "RBEpsc91IOud"
      }
    },
    {
      "cell_type": "code",
      "source": [
        "solve((1/2)*g**2 - 2*g - 30, g)"
      ],
      "metadata": {
        "colab": {
          "base_uri": "https://localhost:8080/"
        },
        "id": "iaFYAQFpG4pO",
        "outputId": "fed4e39e-eef9-464b-a400-e5de90a2b4fa"
      },
      "execution_count": null,
      "outputs": [
        {
          "output_type": "execute_result",
          "data": {
            "text/plain": [
              "[-6.00000000000000, 10.0000000000000]"
            ]
          },
          "metadata": {},
          "execution_count": 27
        }
      ]
    },
    {
      "cell_type": "markdown",
      "source": [
        "![tt — копия — копия.png](data:image/png;base64,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)"
      ],
      "metadata": {
        "id": "81u5vWtnJqRL"
      }
    },
    {
      "cell_type": "markdown",
      "source": [
        "С математической точки зрения в ответ попадает два промежутка, отмеченные красным на рисунке выше. Но отрицательные значения в контексте задачи не имеют смысла. Поэтому, левый промежуток отбрасывается. В правом нужно выбрать минимальное значение согласно вопросу задачи, и это $g=10$."
      ],
      "metadata": {
        "id": "YgJrKBZpJtz2"
      }
    }
  ]
}