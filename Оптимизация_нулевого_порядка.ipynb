{
  "nbformat": 4,
  "nbformat_minor": 0,
  "metadata": {
    "colab": {
      "provenance": [],
      "authorship_tag": "ABX9TyP5Okpz1a+KWes+jH95AWci",
      "include_colab_link": true
    },
    "kernelspec": {
      "name": "python3",
      "display_name": "Python 3"
    },
    "language_info": {
      "name": "python"
    }
  },
  "cells": [
    {
      "cell_type": "markdown",
      "metadata": {
        "id": "view-in-github",
        "colab_type": "text"
      },
      "source": [
        "<a href=\"https://colab.research.google.com/github/albinovik/non_opt_course/blob/main/%D0%9E%D0%BF%D1%82%D0%B8%D0%BC%D0%B8%D0%B7%D0%B0%D1%86%D0%B8%D1%8F_%D0%BD%D1%83%D0%BB%D0%B5%D0%B2%D0%BE%D0%B3%D0%BE_%D0%BF%D0%BE%D1%80%D1%8F%D0%B4%D0%BA%D0%B0.ipynb\" target=\"_parent\"><img src=\"https://colab.research.google.com/assets/colab-badge.svg\" alt=\"Open In Colab\"/></a>"
      ]
    },
    {
      "cell_type": "markdown",
      "source": [
        "**Оптимизация функции** с дополнительным шагом (через 3-юю точку) **методом деления отрезка пополам**."
      ],
      "metadata": {
        "id": "IFXrWv56J4ys"
      }
    },
    {
      "cell_type": "markdown",
      "source": [
        "Поиск минимума:"
      ],
      "metadata": {
        "id": "bRE8tOT8OWmX"
      }
    },
    {
      "cell_type": "code",
      "execution_count": 10,
      "metadata": {
        "id": "BstIuJv2__ru"
      },
      "outputs": [],
      "source": [
        "def F(x):\n",
        "    return (x**3)/3 - x**2 - 3*x \n",
        "\n",
        "def zero_opt(a, b, e):\n",
        "    x2 = (b+a)/2\n",
        "    L = b - a\n",
        "    F2 = F(x2)\n",
        "    while L > e:\n",
        "        x1 = a + L/4\n",
        "        x3 = b - L/4\n",
        "        F1 = F(x1)\n",
        "        F3 = F(x3)\n",
        "        if F1 < F3:\n",
        "            b = x2\n",
        "            x2 = x1\n",
        "        else: \n",
        "            if F2 > F3:\n",
        "                a = x2\n",
        "                x2 = x3\n",
        "            else:\n",
        "                a = x1\n",
        "                b = x3\n",
        "        L = b - a\n",
        "    return print('a = ', a, 'b =', b) "
      ]
    },
    {
      "cell_type": "code",
      "execution_count": 11,
      "metadata": {
        "id": "ALf724f4__rl",
        "outputId": "c0f6dd9f-bedf-4cd5-df3a-68adfe0f3815",
        "colab": {
          "base_uri": "https://localhost:8080/"
        }
      },
      "outputs": [
        {
          "output_type": "stream",
          "name": "stdout",
          "text": [
            "a =  2.9921875 b = 3.0\n"
          ]
        }
      ],
      "source": [
        "zero_opt(-4, 4, 0.01)"
      ]
    },
    {
      "cell_type": "markdown",
      "source": [
        "Поиск максимума:"
      ],
      "metadata": {
        "id": "xDD9ZZSFOab0"
      }
    },
    {
      "cell_type": "code",
      "execution_count": 12,
      "metadata": {
        "id": "d9y1P1cmOw5L"
      },
      "outputs": [],
      "source": [
        "def zero_opt2(a, b, e):\n",
        "    x2 = (b+a)/2\n",
        "    L = b - a\n",
        "    F2 = F(x2)\n",
        "    while L > e:\n",
        "        x1 = a + L/4\n",
        "        x3 = b - L/4\n",
        "        F1 = F(x1)\n",
        "        F3 = F(x3)\n",
        "        if F1 > F3:\n",
        "            b = x2\n",
        "            x2 = x1\n",
        "        else: \n",
        "            if F2 < F3:\n",
        "                a = x2\n",
        "                x2 = x3\n",
        "            else:\n",
        "                a = x1\n",
        "                b = x3\n",
        "        L = b - a\n",
        "    return print('a = ', a, 'b =', b) "
      ]
    },
    {
      "cell_type": "code",
      "source": [
        "zero_opt2(-4, 4, 0.01)"
      ],
      "metadata": {
        "colab": {
          "base_uri": "https://localhost:8080/"
        },
        "id": "SU8bq_77O6nL",
        "outputId": "e9b61c66-4482-432e-a223-e7fbc19784a8"
      },
      "execution_count": 13,
      "outputs": [
        {
          "output_type": "stream",
          "name": "stdout",
          "text": [
            "a =  -1.0 b = -0.9921875\n"
          ]
        }
      ]
    }
  ]
}